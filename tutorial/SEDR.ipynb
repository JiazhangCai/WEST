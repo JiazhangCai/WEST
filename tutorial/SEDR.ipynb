{
 "cells": [
  {
   "cell_type": "markdown",
   "metadata": {},
   "source": [
    "### 1. Load packages"
   ]
  },
  {
   "cell_type": "code",
   "execution_count": 1,
   "metadata": {
    "metadata": {}
   },
   "outputs": [
    {
     "name": "stderr",
     "output_type": "stream",
     "text": [
      "2024-05-22 16:03:15.241999: I tensorflow/core/platform/cpu_feature_guard.cc:193] This TensorFlow binary is optimized with oneAPI Deep Neural Network Library (oneDNN) to use the following CPU instructions in performance-critical operations:  AVX2 FMA\n",
      "To enable them in other operations, rebuild TensorFlow with the appropriate compiler flags.\n",
      "2024-05-22 16:03:15.511943: E tensorflow/stream_executor/cuda/cuda_blas.cc:2981] Unable to register cuBLAS factory: Attempting to register factory for plugin cuBLAS when one has already been registered\n",
      "2024-05-22 16:03:16.603857: W tensorflow/stream_executor/platform/default/dso_loader.cc:64] Could not load dynamic library 'libnvinfer.so.7'; dlerror: libnvinfer.so.7: cannot open shared object file: No such file or directory\n",
      "2024-05-22 16:03:16.603991: W tensorflow/stream_executor/platform/default/dso_loader.cc:64] Could not load dynamic library 'libnvinfer_plugin.so.7'; dlerror: libnvinfer_plugin.so.7: cannot open shared object file: No such file or directory\n",
      "2024-05-22 16:03:16.604007: W tensorflow/compiler/tf2tensorrt/utils/py_utils.cc:38] TF-TRT Warning: Cannot dlopen some TensorRT libraries. If you would like to use Nvidia GPU with TensorRT, please make sure the missing libraries mentioned above are installed properly.\n"
     ]
    }
   ],
   "source": [
    "import numpy as np\n",
    "import pandas as pd\n",
    "import anndata\n",
    "import scanpy as sc\n",
    "import pickle\n",
    "import matplotlib.pyplot as plt\n",
    "from sklearn.metrics.cluster import adjusted_rand_score\n",
    "\n",
    "import SEDR\n",
    "\n",
    "import WEST_plt\n",
    "\n",
    "file_path = '/home/stat/cai/WEST/data/cancer/'"
   ]
  },
  {
   "cell_type": "markdown",
   "metadata": {},
   "source": [
    "### 2. Load data"
   ]
  },
  {
   "cell_type": "code",
   "execution_count": 2,
   "metadata": {
    "metadata": {}
   },
   "outputs": [],
   "source": [
    "#### Read data from pickle\n",
    "with open(file_path+'raw_data.pkl', 'rb') as file:\n",
    "    adata = pickle.load(file)"
   ]
  },
  {
   "cell_type": "markdown",
   "metadata": {},
   "source": [
    "### 3. Preprocess"
   ]
  },
  {
   "cell_type": "code",
   "execution_count": 3,
   "metadata": {
    "metadata": {}
   },
   "outputs": [
    {
     "name": "stderr",
     "output_type": "stream",
     "text": [
      "/home/stat/anaconda3/envs/WEST/lib/python3.8/site-packages/scanpy/preprocessing/_highly_variable_genes.py:61: UserWarning: `flavor='seurat_v3'` expects raw count data, but non-integers were found.\n",
      "  warnings.warn(\n",
      "/home/stat/anaconda3/envs/WEST/lib/python3.8/site-packages/scanpy/preprocessing/_simple.py:843: UserWarning: Received a view of an AnnData. Making a copy.\n",
      "  view_to_actual(adata)\n"
     ]
    }
   ],
   "source": [
    "random_seed = 1234\n",
    "SEDR.fix_seed(random_seed)\n",
    "\n",
    "adata.obsm['spatial'] = adata.obs[['loc_x', 'loc_y']].to_numpy()\n",
    "\n",
    "#### Data preprocess\n",
    "adata.layers['count'] = adata.X\n",
    "sc.pp.filter_genes(adata, min_cells=50)\n",
    "sc.pp.filter_genes(adata, min_counts=10)\n",
    "sc.pp.normalize_total(adata, target_sum=1e6)\n",
    "sc.pp.highly_variable_genes(adata, flavor=\"seurat_v3\", layer='count', n_top_genes=1000)\n",
    "adata = adata[:, adata.var['highly_variable'] == True]\n",
    "sc.pp.scale(adata)\n",
    "\n",
    "from sklearn.decomposition import PCA  # sklearn PCA is used because PCA in scanpy is not stable.\n",
    "adata_X = PCA(n_components=200, random_state=42).fit_transform(adata.X)\n",
    "adata.obsm['X_pca'] = adata_X\n",
    "\n"
   ]
  },
  {
   "cell_type": "markdown",
   "metadata": {},
   "source": [
    "### 4. Model training"
   ]
  },
  {
   "cell_type": "code",
   "execution_count": 4,
   "metadata": {
    "metadata": {}
   },
   "outputs": [
    {
     "name": "stderr",
     "output_type": "stream",
     "text": [
      "/home/stat/anaconda3/envs/WEST/lib/python3.8/site-packages/SEDR-1.0.0-py3.8.egg/SEDR/graph_func.py:59: UserWarning: torch.sparse.SparseTensor(indices, values, shape, *, device=) is deprecated.  Please use torch.sparse_coo_tensor(indices, values, shape, dtype=, device=). (Triggered internally at ../torch/csrc/utils/tensor_new.cpp:621.)\n",
      "  return torch.sparse.FloatTensor(indices, values, shape)\n",
      "  0%|          | 0/200 [00:00<?, ?it/s]/home/stat/anaconda3/envs/WEST/lib/python3.8/site-packages/SEDR-1.0.0-py3.8.egg/SEDR/SEDR_model.py:105: UserWarning: torch.range is deprecated and will be removed in a future release because its behavior is inconsistent with Python's range builtin. Instead, use torch.arange, which produces values in [start, end).\n",
      "  total_idx = torch.range(0, self.cell_num-1, dtype=torch.float32).to(self.device)\n",
      "/home/stat/anaconda3/envs/WEST/lib/python3.8/site-packages/torch/autograd/graph.py:744: UserWarning: CUDA initialization: The NVIDIA driver on your system is too old (found version 11020). Please update your GPU driver by downloading and installing a new version from the URL: http://www.nvidia.com/Download/index.aspx Alternatively, go to: https://pytorch.org to install a PyTorch version that has been compiled with your version of the CUDA driver. (Triggered internally at ../c10/cuda/CUDAFunctions.cpp:108.)\n",
      "  return Variable._execution_engine.run_backward(  # Calls into the C++ engine to run the backward pass\n",
      "100%|██████████| 200/200 [01:03<00:00,  3.13it/s]\n",
      "  0%|          | 0/200 [00:00<?, ?it/s]/home/stat/anaconda3/envs/WEST/lib/python3.8/site-packages/SEDR-1.0.0-py3.8.egg/SEDR/SEDR_model.py:275: UserWarning: To copy construct from a tensor, it is recommended to use sourceTensor.clone().detach() or sourceTensor.clone().detach().requires_grad_(True), rather than torch.tensor(sourceTensor).\n",
      "  loss_kl = F.kl_div(out_q.log(), torch.tensor(tmp_p).to(self.device)).to(self.device)\n",
      "/home/stat/anaconda3/envs/WEST/lib/python3.8/site-packages/torch/nn/functional.py:2976: UserWarning: reduction: 'mean' divides the total loss by both the batch size and the support size.'batchmean' divides only by the batch size, and aligns with the KL div math definition.'mean' will be changed to behave the same as 'batchmean' in the next major release.\n",
      "  warnings.warn(\n",
      "100%|██████████| 200/200 [00:47<00:00,  4.19it/s]\n"
     ]
    }
   ],
   "source": [
    "#### Construct neighborhood graph\n",
    "graph_dict = SEDR.graph_construction(adata, 12)\n",
    "device='cpu'\n",
    "#### Training SEDR\n",
    "sedr_net = SEDR.Sedr(adata.obsm['X_pca'], graph_dict, mode='clustering', device=device)\n",
    "using_dec = True\n",
    "if using_dec:\n",
    "    sedr_net.train_with_dec(N=1)\n",
    "else:\n",
    "    sedr_net.train_without_dec(N=1)\n",
    "sedr_feat, _, _, _ = sedr_net.process()\n",
    "\n",
    "adata.obsm['SEDR'] = sedr_feat\n",
    "SEDR_embedding = sedr_feat"
   ]
  },
  {
   "cell_type": "markdown",
   "metadata": {},
   "source": [
    "### 4. Clustering"
   ]
  },
  {
   "cell_type": "code",
   "execution_count": 7,
   "metadata": {
    "metadata": {}
   },
   "outputs": [
    {
     "name": "stdout",
     "output_type": "stream",
     "text": [
      "ARI:  0.30418576621425497\n",
      "['1', '0', '2', '3']\n",
      "Categories (4, object): ['0', '1', '2', '3']\n"
     ]
    }
   ],
   "source": [
    "#### Clustering\n",
    "sc.pp.neighbors(adata, use_rep='SEDR')\n",
    "sc.tl.leiden(adata, key_added='SEDR', random_state=1234, resolution=0.2)\n",
    "\n",
    "ARI = adjusted_rand_score(adata.obs['SEDR'], adata.obs[\"true cluster\"])\n",
    "print(\"ARI: \", ARI)\n",
    "print(adata.obs['SEDR'].unique())"
   ]
  },
  {
   "cell_type": "code",
   "execution_count": 8,
   "metadata": {},
   "outputs": [
    {
     "data": {
      "image/png": "[encoded data removed]",
      "text/plain": [
       "<Figure size 500x500 with 1 Axes>"
      ]
     },
     "metadata": {},
     "output_type": "display_data"
    }
   ],
   "source": [
    "WEST_plt.WEST_scatter(adata, reps='SEDR', invert_y=True, s=5)"
   ]
  },
  {
   "cell_type": "markdown",
   "metadata": {},
   "source": [
    "### 5. Save embedding"
   ]
  },
  {
   "cell_type": "code",
   "execution_count": 9,
   "metadata": {
    "metadata": {}
   },
   "outputs": [],
   "source": [
    "np.savetxt(file_path+'SEDR_embedding.csv',SEDR_embedding, delimiter=',')\n",
    "np.savetxt(file_path+'SEDR_cluster.csv', adata.obs['SEDR'], delimiter=',', fmt='%s')"
   ]
  }
 ],
 "metadata": {
  "kernelspec": {
   "display_name": "WEST",
   "language": "python",
   "name": "python3"
  },
  "language_info": {
   "codemirror_mode": {
    "name": "ipython",
    "version": 3
   },
   "file_extension": ".py",
   "mimetype": "text/x-python",
   "name": "python",
   "nbconvert_exporter": "python",
   "pygments_lexer": "ipython3",
   "version": "3.8.19"
  }
 },
 "nbformat": 4,
 "nbformat_minor": 2
}
