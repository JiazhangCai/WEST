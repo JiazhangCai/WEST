{
 "cells": [
  {
   "cell_type": "markdown",
   "id": "1d934cbb",
   "metadata": {},
   "source": [
    "### 1. Import packages"
   ]
  },
  {
   "cell_type": "code",
   "execution_count": 1,
   "id": "bfb92fc1",
   "metadata": {
    "metadata": {}
   },
   "outputs": [
    {
     "name": "stderr",
     "output_type": "stream",
     "text": [
      "/home/stat/anaconda3/envs/deepst_env/lib/python3.9/site-packages/tqdm/auto.py:22: TqdmWarning: IProgress not found. Please update jupyter and ipywidgets. See https://ipywidgets.readthedocs.io/en/stable/user_install.html\n",
      "  from .autonotebook import tqdm as notebook_tqdm\n"
     ]
    },
    {
     "data": {
      "text/html": [
       "<style type='text/css'>\n",
       ".datatable table.frame { margin-bottom: 0; }\n",
       ".datatable table.frame thead { border-bottom: none; }\n",
       ".datatable table.frame tr.coltypes td {  color: #FFFFFF;  line-height: 6px;  padding: 0 0.5em;}\n",
       ".datatable .bool    { background: #DDDD99; }\n",
       ".datatable .object  { background: #565656; }\n",
       ".datatable .int     { background: #5D9E5D; }\n",
       ".datatable .float   { background: #4040CC; }\n",
       ".datatable .str     { background: #CC4040; }\n",
       ".datatable .time    { background: #40CC40; }\n",
       ".datatable .row_index {  background: var(--jp-border-color3);  border-right: 1px solid var(--jp-border-color0);  color: var(--jp-ui-font-color3);  font-size: 9px;}\n",
       ".datatable .frame tbody td { text-align: left; }\n",
       ".datatable .frame tr.coltypes .row_index {  background: var(--jp-border-color0);}\n",
       ".datatable th:nth-child(2) { padding-left: 12px; }\n",
       ".datatable .hellipsis {  color: var(--jp-cell-editor-border-color);}\n",
       ".datatable .vellipsis {  background: var(--jp-layout-color0);  color: var(--jp-cell-editor-border-color);}\n",
       ".datatable .na {  color: var(--jp-cell-editor-border-color);  font-size: 80%;}\n",
       ".datatable .sp {  opacity: 0.25;}\n",
       ".datatable .footer { font-size: 9px; }\n",
       ".datatable .frame_dimensions {  background: var(--jp-border-color3);  border-top: 1px solid var(--jp-border-color0);  color: var(--jp-ui-font-color3);  display: inline-block;  opacity: 0.6;  padding: 1px 10px 1px 5px;}\n",
       "</style>\n"
      ],
      "text/plain": [
       "<IPython.core.display.HTML object>"
      ]
     },
     "metadata": {},
     "output_type": "display_data"
    }
   ],
   "source": [
    "import numpy as np\n",
    "import pandas as pd\n",
    "import anndata\n",
    "import datatable as dt\n",
    "import scanpy as sc\n",
    "import pickle\n",
    "from sklearn.metrics.cluster import adjusted_rand_score\n",
    "\n",
    "import WEST_plt\n",
    "\n",
    "file_path = '/home/stat/cai/WEST/data/cancer/'"
   ]
  },
  {
   "cell_type": "markdown",
   "id": "622549d0",
   "metadata": {},
   "source": [
    "### 2. Load data"
   ]
  },
  {
   "cell_type": "code",
   "execution_count": 2,
   "id": "3ff96db9",
   "metadata": {
    "metadata": {}
   },
   "outputs": [],
   "source": [
    "#### Read data from pickle\n",
    "with open(file_path+'raw_data.pkl', 'rb') as file:\n",
    "    adata = pickle.load(file)"
   ]
  },
  {
   "cell_type": "markdown",
   "id": "47494698",
   "metadata": {},
   "source": [
    "### 3. Environment setting"
   ]
  },
  {
   "cell_type": "code",
   "execution_count": 3,
   "id": "5c37725a",
   "metadata": {
    "metadata": {}
   },
   "outputs": [],
   "source": [
    "import sys \n",
    "import os\n",
    "sys.path.append(\"/home/stat/cai/WEST/code/DeepST/DeepST-main/deepst\")\n",
    "os.chdir('/home/stat/cai/WEST/code/DeepST/DeepST-main/deepst')\n",
    "from DeepST import run\n",
    "\n",
    "deepen = run(save_path = '/home/stat/cai/WEST/code',\n",
    "\ttask = \"Identify_Domain\", #### DeepST includes two tasks, one is \"Identify_Domain\" and the other is \"Integration\"\n",
    "\tpre_epochs = 800, ####  choose the number of training\n",
    "\tepochs = 1000, #### choose the number of training\n",
    "\tuse_gpu = True)\n"
   ]
  },
  {
   "cell_type": "markdown",
   "id": "95cbcb18",
   "metadata": {},
   "source": [
    "### 4. Preprocess"
   ]
  },
  {
   "cell_type": "code",
   "execution_count": 4,
   "id": "938ffef9",
   "metadata": {
    "metadata": {}
   },
   "outputs": [
    {
     "name": "stdout",
     "output_type": "stream",
     "text": [
      "Physical distance calculting Done!\n",
      "The number of nearest tie neighbors in physical distance is: 30.0\n",
      "Gene correlation calculting Done!\n",
      "The weight result of image feature is added to adata.obsm['weights_matrix_all'] !\n"
     ]
    },
    {
     "name": "stderr",
     "output_type": "stream",
     "text": [
      "Find adjacent spots of each spot: 100%|██████████ [ time left: 00:00 ]"
     ]
    },
    {
     "name": "stdout",
     "output_type": "stream",
     "text": [
      "Step 1: Augment molecule expression is Done!\n",
      "12.0000 neighbors per cell on average.\n"
     ]
    },
    {
     "name": "stderr",
     "output_type": "stream",
     "text": [
      "\n",
      "/home/stat/anaconda3/envs/deepst_env/lib/python3.9/site-packages/anndata/_core/anndata.py:430: FutureWarning: The dtype argument is deprecated and will be removed in late 2024.\n",
      "  warnings.warn(\n"
     ]
    },
    {
     "name": "stdout",
     "output_type": "stream",
     "text": [
      "Step 2: Graph computing is Done!\n"
     ]
    }
   ],
   "source": [
    "adata.obsm['spatial'] = adata.obs[['loc_x', 'loc_y']].to_numpy()\n",
    "adata = deepen._get_augment(adata, spatial_type=\"NearestNeighbors\", use_morphological=False)\n",
    "\n",
    "graph_dict = deepen._get_graph(adata.obsm[\"spatial\"], distType = \"BallTree\")\n",
    "data = deepen._data_process(adata, pca_n_comps = 200)"
   ]
  },
  {
   "cell_type": "markdown",
   "id": "89ae981d",
   "metadata": {},
   "source": [
    "### 5. Model training"
   ]
  },
  {
   "cell_type": "code",
   "execution_count": 5,
   "id": "156d3ad5",
   "metadata": {
    "metadata": {}
   },
   "outputs": [
    {
     "name": "stdout",
     "output_type": "stream",
     "text": [
      "Your task is in full swing, please wait\n"
     ]
    },
    {
     "name": "stderr",
     "output_type": "stream",
     "text": [
      "DeepST trains an initial model: 100%|██████████ [ time left: 00:00 ]\n",
      "DeepST trains a final model:   0%|           [ time left: ? ]/home/stat/anaconda3/envs/deepst_env/lib/python3.9/site-packages/torch/nn/functional.py:2916: UserWarning: reduction: 'mean' divides the total loss by both the batch size and the support size.'batchmean' divides only by the batch size, and aligns with the KL div math definition.'mean' will be changed to behave the same as 'batchmean' in the next major release.\n",
      "  warnings.warn(\n",
      "DeepST trains a final model: |           [ time left: 00:00 ]    "
     ]
    },
    {
     "name": "stdout",
     "output_type": "stream",
     "text": [
      "Step 3: DeepST training has been Done!\n",
      "Current memory usage：2.5032 GB\n",
      "Total time: 1.12 minutes\n",
      "Your task has been completed, thank you\n",
      "Of course, you can also perform downstream analysis on the processed data\n"
     ]
    },
    {
     "name": "stderr",
     "output_type": "stream",
     "text": [
      "\n"
     ]
    }
   ],
   "source": [
    "###### Training models\n",
    "deepst_embed = deepen._fit(\n",
    "\t\tdata = data,\n",
    "\t\tgraph_dict = graph_dict,)\n"
   ]
  },
  {
   "cell_type": "markdown",
   "id": "5ffe4f37",
   "metadata": {},
   "source": [
    "### 6. Clustering"
   ]
  },
  {
   "cell_type": "code",
   "execution_count": 6,
   "id": "368e50da",
   "metadata": {
    "metadata": {}
   },
   "outputs": [
    {
     "name": "stdout",
     "output_type": "stream",
     "text": [
      "Best resolution:  0.4099999999999998\n",
      "ARI:  0.6653391444113264\n",
      "['1' '0' '2' '3']\n"
     ]
    }
   ],
   "source": [
    "###### DeepST outputs\n",
    "adata.obsm[\"DeepST_embed\"] = deepst_embed\n",
    "\n",
    "###### Define the number of space domains, and the model can also be customized. If it is a model custom priori = False.\n",
    "adata = deepen._get_cluster_data(adata, n_domains=4, priori = True)\n",
    "\n",
    "ARI = adjusted_rand_score(adata.obs['DeepST_refine_domain'], adata.obs['true cluster']) # ARI of the cluster result only use gene expression\n",
    "print('ARI: ', ARI)\n",
    "print(adata.obs['DeepST_refine_domain'].unique())"
   ]
  },
  {
   "cell_type": "code",
   "execution_count": 7,
   "id": "a4f77382",
   "metadata": {},
   "outputs": [
    {
     "data": {
      "image/png": "[encoded data removed]",
      "text/plain": [
       "<Figure size 500x500 with 1 Axes>"
      ]
     },
     "metadata": {},
     "output_type": "display_data"
    }
   ],
   "source": [
    "WEST_plt.WEST_scatter(adata, reps='DeepST_refine_domain', invert_y=True, s=5)"
   ]
  },
  {
   "cell_type": "markdown",
   "id": "85b947ad",
   "metadata": {},
   "source": [
    "### 7. Save embedding"
   ]
  },
  {
   "cell_type": "code",
   "execution_count": 8,
   "id": "c43782ba",
   "metadata": {
    "metadata": {}
   },
   "outputs": [],
   "source": [
    "np.savetxt(file_path+'DeepST_embedding.csv', adata.obsm['DeepST_embed'], delimiter=',')\n",
    "np.savetxt(file_path+'DeepST_cluster.csv', adata.obs['DeepST_refine_domain'], delimiter=',', fmt='%s')"
   ]
  }
 ],
 "metadata": {
  "kernelspec": {
   "display_name": "Python 3.9.19 ('deepst_env')",
   "language": "python",
   "name": "python3"
  },
  "language_info": {
   "codemirror_mode": {
    "name": "ipython",
    "version": 3
   },
   "file_extension": ".py",
   "mimetype": "text/x-python",
   "name": "python",
   "nbconvert_exporter": "python",
   "pygments_lexer": "ipython3",
   "version": "3.9.19"
  },
  "vscode": {
   "interpreter": {
    "hash": "04afbcad0b145611a88de7c20c56db6b407d04c6bb69ab2d827979ecd92af39b"
   }
  }
 },
 "nbformat": 4,
 "nbformat_minor": 5
}
