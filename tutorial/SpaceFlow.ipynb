{
 "cells": [
  {
   "cell_type": "markdown",
   "metadata": {},
   "source": [
    "### 1. Load packages"
   ]
  },
  {
   "cell_type": "code",
   "execution_count": 1,
   "metadata": {
    "metadata": {}
   },
   "outputs": [
    {
     "name": "stderr",
     "output_type": "stream",
     "text": [
      "/home/stat/anaconda3/envs/gcn2/lib/python3.8/site-packages/torch_geometric/typing.py:31: UserWarning: An issue occurred while importing 'torch-scatter'. Disabling its usage. Stacktrace: libcudart.so.10.2: cannot open shared object file: No such file or directory\n",
      "  warnings.warn(f\"An issue occurred while importing 'torch-scatter'. \"\n",
      "/home/stat/anaconda3/envs/gcn2/lib/python3.8/site-packages/torch_geometric/typing.py:42: UserWarning: An issue occurred while importing 'torch-sparse'. Disabling its usage. Stacktrace: libcudart.so.10.2: cannot open shared object file: No such file or directory\n",
      "  warnings.warn(f\"An issue occurred while importing 'torch-sparse'. \"\n",
      "/home/stat/anaconda3/envs/WEST/lib/python3.8/site-packages/torch/cuda/__init__.py:118: UserWarning: CUDA initialization: The NVIDIA driver on your system is too old (found version 11020). Please update your GPU driver by downloading and installing a new version from the URL: http://www.nvidia.com/Download/index.aspx Alternatively, go to: https://pytorch.org to install a PyTorch version that has been compiled with your version of the CUDA driver. (Triggered internally at ../c10/cuda/CUDAFunctions.cpp:108.)\n",
      "  return torch._C._cuda_getDeviceCount() > 0\n",
      "2024-05-22 16:39:11.953275: I tensorflow/core/platform/cpu_feature_guard.cc:193] This TensorFlow binary is optimized with oneAPI Deep Neural Network Library (oneDNN) to use the following CPU instructions in performance-critical operations:  AVX2 FMA\n",
      "To enable them in other operations, rebuild TensorFlow with the appropriate compiler flags.\n",
      "2024-05-22 16:39:12.151076: E tensorflow/stream_executor/cuda/cuda_blas.cc:2981] Unable to register cuBLAS factory: Attempting to register factory for plugin cuBLAS when one has already been registered\n",
      "2024-05-22 16:39:12.984670: W tensorflow/stream_executor/platform/default/dso_loader.cc:64] Could not load dynamic library 'libnvinfer.so.7'; dlerror: libnvinfer.so.7: cannot open shared object file: No such file or directory\n",
      "2024-05-22 16:39:12.984781: W tensorflow/stream_executor/platform/default/dso_loader.cc:64] Could not load dynamic library 'libnvinfer_plugin.so.7'; dlerror: libnvinfer_plugin.so.7: cannot open shared object file: No such file or directory\n",
      "2024-05-22 16:39:12.984794: W tensorflow/compiler/tf2tensorrt/utils/py_utils.cc:38] TF-TRT Warning: Cannot dlopen some TensorRT libraries. If you would like to use Nvidia GPU with TensorRT, please make sure the missing libraries mentioned above are installed properly.\n"
     ]
    }
   ],
   "source": [
    "import numpy as np\n",
    "import pandas as pd\n",
    "import anndata\n",
    "import scanpy as sc\n",
    "import pickle\n",
    "import matplotlib.pyplot as plt\n",
    "from sklearn.metrics.cluster import adjusted_rand_score\n",
    "\n",
    "import random, torch\n",
    "from SpaceFlow import SpaceFlow \n",
    "\n",
    "import WEST_plt\n",
    "\n",
    "file_path = '/home/stat/cai/WEST/data/simulation/circle_grid_disp_0.2/'"
   ]
  },
  {
   "cell_type": "markdown",
   "metadata": {},
   "source": [
    "### 2. Load data"
   ]
  },
  {
   "cell_type": "code",
   "execution_count": 2,
   "metadata": {
    "metadata": {}
   },
   "outputs": [],
   "source": [
    "#### Read data from pickle\n",
    "with open(file_path+'raw_data.pkl', 'rb') as file:\n",
    "    adata = pickle.load(file)"
   ]
  },
  {
   "cell_type": "markdown",
   "metadata": {},
   "source": [
    "### 3. Preprocess"
   ]
  },
  {
   "cell_type": "code",
   "execution_count": 3,
   "metadata": {
    "metadata": {}
   },
   "outputs": [
    {
     "name": "stderr",
     "output_type": "stream",
     "text": [
      "/home/stat/anaconda3/envs/gcn2/lib/python3.8/site-packages/numba/np/ufunc/parallel.py:365: NumbaWarning: The TBB threading layer requires TBB version 2019.5 or later i.e., TBB_INTERFACE_VERSION >= 11005. Found TBB_INTERFACE_VERSION = 9107. The TBB threading layer is disabled.\n",
      "  warnings.warn(problem)\n"
     ]
    }
   ],
   "source": [
    "sc.pp.normalize_total(adata, target_sum=1e4) # Normalization\n",
    "sc.pp.log1p(adata) # Take log\n",
    "sc.pp.highly_variable_genes(adata, n_top_genes=1000, subset=True) # Gene screening\n",
    "sc.pp.pca(adata, n_comps=50) # PCA\n",
    "sc.pp.neighbors(adata, n_neighbors=100) # use PCA as default\n",
    "\n",
    "r_seed=t_seed=n_seed=1234\n",
    "random.seed(r_seed)\n",
    "torch.manual_seed(t_seed)\n",
    "np.random.seed(n_seed)\n",
    "\n",
    "adata.obsm['spatial'] = adata.obs[['loc_x', 'loc_y']].to_numpy()\n",
    "\n",
    "# preprocess\n",
    "sf = SpaceFlow.SpaceFlow(count_matrix=adata.X, spatial_locs=adata.obsm['spatial'])\n",
    "sf.adata_preprocessed = adata\n",
    "sf.spatial_graph = sf.graph_alpha(adata.obsm['spatial'], n_neighbors=50)"
   ]
  },
  {
   "cell_type": "markdown",
   "metadata": {},
   "source": [
    "### 4. Model training"
   ]
  },
  {
   "cell_type": "code",
   "execution_count": 4,
   "metadata": {
    "metadata": {}
   },
   "outputs": [],
   "source": [
    "%%capture captured_output\n",
    "# train\n",
    "sf.train(spatial_regularization_strength=0.1, \n",
    "         z_dim=50, \n",
    "         lr=1e-3, \n",
    "         epochs=1000, \n",
    "         max_patience=50, \n",
    "         min_stop=100, \n",
    "         random_seed=42, \n",
    "         gpu=0, \n",
    "         regularization_acceleration=True, \n",
    "         edge_subset_sz=1000000)\n",
    "\n",
    "# get new embedding\n",
    "SpaceFlow_embedding = sf.embedding"
   ]
  },
  {
   "cell_type": "markdown",
   "metadata": {},
   "source": [
    "### 4. Clustering"
   ]
  },
  {
   "cell_type": "code",
   "execution_count": 7,
   "metadata": {
    "metadata": {}
   },
   "outputs": [
    {
     "name": "stdout",
     "output_type": "stream",
     "text": [
      "Performing domain segmentation\n",
      "Segmentation complete, domain labels of cells or spots saved at ./domains1.tsv !\n",
      "ARI:  0.5312847043343434\n",
      "[0, 3, 2, 1]\n",
      "Categories (4, int64): [0, 1, 2, 3]\n"
     ]
    }
   ],
   "source": [
    "sf.segmentation(domain_label_save_filepath=\"./domains1.tsv\", \n",
    "                n_neighbors=50, \n",
    "                resolution=0.3)\n",
    "\n",
    "est_label = np.array(sf.domains).astype(int)\n",
    "adata.obs[\"SpaceFlow\"] = est_label\n",
    "adata.obs[\"SpaceFlow\"] = adata.obs[\"SpaceFlow\"].astype(\"category\")\n",
    "\n",
    "ARI = adjusted_rand_score(adata.obs[\"SpaceFlow\"], adata.obs[\"true cluster\"])\n",
    "print(\"ARI: \", ARI)\n",
    "print(adata.obs[\"SpaceFlow\"].unique())"
   ]
  },
  {
   "cell_type": "code",
   "execution_count": 8,
   "metadata": {
    "metadata": {}
   },
   "outputs": [
    {
     "data": {
      "image/png": "[encoded data removed]",
      "text/plain": [
       "<Figure size 500x500 with 1 Axes>"
      ]
     },
     "metadata": {},
     "output_type": "display_data"
    }
   ],
   "source": [
    "WEST_plt.WEST_scatter(adata, reps='SpaceFlow', invert_y=True, s=5)"
   ]
  },
  {
   "cell_type": "markdown",
   "metadata": {},
   "source": [
    "### 5. Save embedding"
   ]
  },
  {
   "cell_type": "code",
   "execution_count": 9,
   "metadata": {
    "metadata": {}
   },
   "outputs": [],
   "source": [
    "np.savetxt(file_path+'SpaceFlow_embedding.csv',SpaceFlow_embedding, delimiter=',')\n",
    "np.savetxt(file_path+'SpaceFlow_cluster.csv', adata.obs['SpaceFlow'], delimiter=',', fmt='%s')"
   ]
  }
 ],
 "metadata": {
  "kernelspec": {
   "display_name": "WEST",
   "language": "python",
   "name": "python3"
  },
  "language_info": {
   "codemirror_mode": {
    "name": "ipython",
    "version": 3
   },
   "file_extension": ".py",
   "mimetype": "text/x-python",
   "name": "python",
   "nbconvert_exporter": "python",
   "pygments_lexer": "ipython3",
   "version": "3.8.19"
  }
 },
 "nbformat": 4,
 "nbformat_minor": 2
}
