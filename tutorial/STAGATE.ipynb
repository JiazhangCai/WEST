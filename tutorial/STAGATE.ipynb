{
 "cells": [
  {
   "cell_type": "markdown",
   "id": "1d934cbb",
   "metadata": {},
   "source": [
    "### 1. Import packages"
   ]
  },
  {
   "cell_type": "code",
   "execution_count": 1,
   "id": "bfb92fc1",
   "metadata": {
    "metadata": {}
   },
   "outputs": [
    {
     "name": "stderr",
     "output_type": "stream",
     "text": [
      "2024-05-22 16:06:55.504961: I tensorflow/core/platform/cpu_feature_guard.cc:193] This TensorFlow binary is optimized with oneAPI Deep Neural Network Library (oneDNN) to use the following CPU instructions in performance-critical operations:  AVX2 FMA\n",
      "To enable them in other operations, rebuild TensorFlow with the appropriate compiler flags.\n",
      "2024-05-22 16:06:55.742302: E tensorflow/stream_executor/cuda/cuda_blas.cc:2981] Unable to register cuBLAS factory: Attempting to register factory for plugin cuBLAS when one has already been registered\n",
      "2024-05-22 16:06:56.799525: W tensorflow/stream_executor/platform/default/dso_loader.cc:64] Could not load dynamic library 'libnvinfer.so.7'; dlerror: libnvinfer.so.7: cannot open shared object file: No such file or directory\n",
      "2024-05-22 16:06:56.799666: W tensorflow/stream_executor/platform/default/dso_loader.cc:64] Could not load dynamic library 'libnvinfer_plugin.so.7'; dlerror: libnvinfer_plugin.so.7: cannot open shared object file: No such file or directory\n",
      "2024-05-22 16:06:56.799682: W tensorflow/compiler/tf2tensorrt/utils/py_utils.cc:38] TF-TRT Warning: Cannot dlopen some TensorRT libraries. If you would like to use Nvidia GPU with TensorRT, please make sure the missing libraries mentioned above are installed properly.\n"
     ]
    }
   ],
   "source": [
    "import numpy as np\n",
    "import pandas as pd\n",
    "import anndata\n",
    "import scanpy as sc\n",
    "import pickle\n",
    "from sklearn.metrics.cluster import adjusted_rand_score\n",
    "\n",
    "import WEST_plt\n",
    "\n",
    "file_path = '/home/stat/cai/WEST/data/cancer/'"
   ]
  },
  {
   "cell_type": "markdown",
   "id": "622549d0",
   "metadata": {},
   "source": [
    "### 2. Load data"
   ]
  },
  {
   "cell_type": "code",
   "execution_count": 2,
   "id": "88126d0e",
   "metadata": {
    "metadata": {}
   },
   "outputs": [],
   "source": [
    "#### Read data from pickle\n",
    "with open(file_path+'raw_data.pkl', 'rb') as file:\n",
    "    adata = pickle.load(file)"
   ]
  },
  {
   "cell_type": "markdown",
   "id": "2a9f5dcf",
   "metadata": {},
   "source": [
    "### 3. STAGATE function"
   ]
  },
  {
   "cell_type": "code",
   "execution_count": 3,
   "id": "dd926edf",
   "metadata": {
    "metadata": {}
   },
   "outputs": [],
   "source": [
    "class GATE():\n",
    "\n",
    "    def __init__(self, hidden_dims, alpha=0.8, nonlinear=True, weight_decay=0.0001):\n",
    "        self.n_layers = len(hidden_dims) - 1\n",
    "        self.alpha = alpha\n",
    "        self.W, self.v, self.prune_v = self.define_weights(hidden_dims)\n",
    "        self.C = {}\n",
    "        self.prune_C = {}\n",
    "        self.nonlinear = nonlinear\n",
    "        self.weight_decay = weight_decay\n",
    "\n",
    "    def __call__(self, A, prune_A, X):\n",
    "        # Encoder\n",
    "        H = X\n",
    "        for layer in range(self.n_layers):\n",
    "            H = self.__encoder(A, prune_A, H, layer)\n",
    "            if self.nonlinear:\n",
    "                if layer != self.n_layers-1:\n",
    "                    H = tf.nn.elu(H)\n",
    "        # Final node representations\n",
    "        self.H = H\n",
    "\n",
    "        # Decoder\n",
    "        for layer in range(self.n_layers - 1, -1, -1):\n",
    "            H = self.__decoder(H, layer)\n",
    "            if self.nonlinear:\n",
    "                if layer != 0:\n",
    "                    H = tf.nn.elu(H)\n",
    "        X_ = H\n",
    "        \n",
    "        # The reconstruction loss of node features\n",
    "        features_loss = tf.sqrt(tf.reduce_sum(tf.reduce_sum(tf.pow(X - X_, 2))))\n",
    "\n",
    "        for layer in range(self.n_layers):\n",
    "            weight_decay_loss = 0\n",
    "            weight_decay_loss += tf.multiply(tf.nn.l2_loss(self.W[layer]), self.weight_decay, name='weight_loss')\n",
    "\n",
    "        # Total loss\n",
    "        self.loss = features_loss  + weight_decay_loss\n",
    "\n",
    "        if self.alpha == 0:\n",
    "            self.Att_l = self.C\n",
    "        else:\n",
    "            #self.Att_l = {x: (1-self.alpha)*self.C[x] + self.alpha*self.prune_C[x] for x in self.C.keys()}\n",
    "            self.Att_l = {'C': self.C, 'prune_C': self.prune_C}\n",
    "        return self.loss, self.H, self.Att_l, X_\n",
    "\n",
    "\n",
    "    def __encoder(self, A, prune_A, H, layer):\n",
    "        H = tf.matmul(H, self.W[layer])\n",
    "        if layer == self.n_layers-1:\n",
    "            return H\n",
    "        self.C[layer] = self.graph_attention_layer(A, H, self.v[layer], layer)\n",
    "        if self.alpha == 0:\n",
    "            return tf.sparse_tensor_dense_matmul(self.C[layer], H)\n",
    "        else:\n",
    "            self.prune_C[layer] = self.graph_attention_layer(prune_A, H, self.prune_v[layer], layer)\n",
    "            return (1-self.alpha)*tf.sparse_tensor_dense_matmul(self.C[layer], H) + self.alpha*tf.sparse_tensor_dense_matmul(self.prune_C[layer], H)\n",
    "\n",
    "\n",
    "    def __decoder(self, H, layer):\n",
    "        H = tf.matmul(H, self.W[layer], transpose_b=True)\n",
    "        if layer == 0:\n",
    "            return H\n",
    "        if self.alpha == 0:\n",
    "            return tf.sparse_tensor_dense_matmul(self.C[layer-1], H)\n",
    "        else:\n",
    "            return (1-self.alpha)*tf.sparse_tensor_dense_matmul(self.C[layer-1], H) + self.alpha*tf.sparse_tensor_dense_matmul(self.prune_C[layer-1], H)\n",
    "\n",
    "\n",
    "    def define_weights(self, hidden_dims):\n",
    "        W = {}\n",
    "        for i in range(self.n_layers):\n",
    "            W[i] = tf.get_variable(\"W%s\" % i, shape=(hidden_dims[i], hidden_dims[i+1]))\n",
    "\n",
    "        Ws_att = {}\n",
    "        for i in range(self.n_layers-1):\n",
    "            v = {}\n",
    "            v[0] = tf.get_variable(\"v%s_0\" % i, shape=(hidden_dims[i+1], 1))\n",
    "            v[1] = tf.get_variable(\"v%s_1\" % i, shape=(hidden_dims[i+1], 1))\n",
    "\n",
    "            Ws_att[i] = v\n",
    "        if self.alpha == 0:\n",
    "            return W, Ws_att, None\n",
    "        prune_Ws_att = {}\n",
    "        for i in range(self.n_layers-1):\n",
    "            prune_v = {}\n",
    "            prune_v[0] = tf.get_variable(\"prune_v%s_0\" % i, shape=(hidden_dims[i+1], 1))\n",
    "            prune_v[1] = tf.get_variable(\"prune_v%s_1\" % i, shape=(hidden_dims[i+1], 1))\n",
    "\n",
    "            prune_Ws_att[i] = prune_v\n",
    "\n",
    "        return W, Ws_att, prune_Ws_att\n",
    "\n",
    "    def graph_attention_layer(self, A, M, v, layer):\n",
    "\n",
    "        with tf.variable_scope(\"layer_%s\"% layer):\n",
    "            f1 = tf.matmul(M, v[0])\n",
    "            f1 = A * f1\n",
    "            f2 = tf.matmul(M, v[1])\n",
    "            f2 = A * tf.transpose(f2, [1, 0])\n",
    "            logits = tf.sparse_add(f1, f2)\n",
    "\n",
    "            unnormalized_attentions = tf.SparseTensor(indices=logits.indices,\n",
    "                                         values=tf.nn.sigmoid(logits.values),\n",
    "                                         dense_shape=logits.dense_shape)\n",
    "            attentions = tf.sparse_softmax(unnormalized_attentions)\n",
    "\n",
    "            attentions = tf.SparseTensor(indices=attentions.indices,\n",
    "                                         values=attentions.values,\n",
    "                                         dense_shape=attentions.dense_shape)\n",
    "\n",
    "            return attentions"
   ]
  },
  {
   "cell_type": "code",
   "execution_count": 4,
   "id": "130e2530",
   "metadata": {
    "metadata": {}
   },
   "outputs": [],
   "source": [
    "import pandas as pd\n",
    "import numpy as np\n",
    "import sklearn.neighbors\n",
    "\n",
    "\n",
    "def Cal_Spatial_Net(adata, rad_cutoff=None, k_cutoff=None, model='Radius', verbose=True):\n",
    "    \"\"\"\\\n",
    "    Construct the spatial neighbor networks.\n",
    "\n",
    "    Parameters\n",
    "    ----------\n",
    "    adata\n",
    "        AnnData object of scanpy package.\n",
    "    rad_cutoff\n",
    "        radius cutoff when model='Radius'\n",
    "    k_cutoff\n",
    "        The number of nearest neighbors when model='KNN'\n",
    "    model\n",
    "        The network construction model. When model=='Radius', the spot is connected to spots whose distance is less than rad_cutoff. When model=='KNN', the spot is connected to its first k_cutoff nearest neighbors.\n",
    "    \n",
    "    Returns\n",
    "    -------\n",
    "    The spatial networks are saved in adata.uns['Spatial_Net']\n",
    "    \"\"\"\n",
    "\n",
    "    assert(model in ['Radius', 'KNN'])\n",
    "    if verbose:\n",
    "        print('------Calculating spatial graph...')\n",
    "    coor = pd.DataFrame(adata.obsm['spatial'])\n",
    "    coor.index = adata.obs.index\n",
    "    coor.columns = ['imagerow', 'imagecol']\n",
    "\n",
    "    if model == 'Radius':\n",
    "        nbrs = sklearn.neighbors.NearestNeighbors(radius=rad_cutoff).fit(coor)\n",
    "        distances, indices = nbrs.radius_neighbors(coor, return_distance=True)\n",
    "        KNN_list = []\n",
    "        for it in range(indices.shape[0]):\n",
    "            KNN_list.append(pd.DataFrame(zip([it]*indices[it].shape[0], indices[it], distances[it])))\n",
    "    \n",
    "    if model == 'KNN':\n",
    "        nbrs = sklearn.neighbors.NearestNeighbors(n_neighbors=k_cutoff+1).fit(coor)\n",
    "        distances, indices = nbrs.kneighbors(coor)\n",
    "        KNN_list = []\n",
    "        for it in range(indices.shape[0]):\n",
    "            KNN_list.append(pd.DataFrame(zip([it]*indices.shape[1],indices[it,:], distances[it,:])))\n",
    "\n",
    "    KNN_df = pd.concat(KNN_list)\n",
    "    KNN_df.columns = ['Cell1', 'Cell2', 'Distance']\n",
    "\n",
    "    Spatial_Net = KNN_df.copy()\n",
    "    Spatial_Net = Spatial_Net.loc[Spatial_Net['Distance']>0,]\n",
    "    id_cell_trans = dict(zip(range(coor.shape[0]), np.array(coor.index), ))\n",
    "    Spatial_Net['Cell1'] = Spatial_Net['Cell1'].map(id_cell_trans)\n",
    "    Spatial_Net['Cell2'] = Spatial_Net['Cell2'].map(id_cell_trans)\n",
    "    if verbose:\n",
    "        print('The graph contains %d edges, %d cells.' %(Spatial_Net.shape[0], adata.n_obs))\n",
    "        print('%.4f neighbors per cell on average.' %(Spatial_Net.shape[0]/adata.n_obs))\n",
    "\n",
    "    adata.uns['Spatial_Net'] = Spatial_Net\n",
    "\n",
    "\n",
    "def Cal_Spatial_Net_3D(adata, rad_cutoff_2D, rad_cutoff_Zaxis,\n",
    "                       key_section='Section_id', section_order=None, verbose=True):\n",
    "    \"\"\"\\\n",
    "    Construct the spatial neighbor networks.\n",
    "\n",
    "    Parameters\n",
    "    ----------\n",
    "    adata\n",
    "        AnnData object of scanpy package.\n",
    "    rad_cutoff_2D\n",
    "        radius cutoff for 2D SNN construction.\n",
    "    rad_cutoff_Zaxis\n",
    "        radius cutoff for 2D SNN construction for consturcting SNNs between adjacent sections.\n",
    "    key_section\n",
    "        The columns names of section_ID in adata.obs.\n",
    "    section_order\n",
    "        The order of sections. The SNNs between adjacent sections are constructed according to this order.\n",
    "    \n",
    "    Returns\n",
    "    -------\n",
    "    The 3D spatial networks are saved in adata.uns['Spatial_Net'].\n",
    "    \"\"\"\n",
    "    adata.uns['Spatial_Net_2D'] = pd.DataFrame()\n",
    "    adata.uns['Spatial_Net_Zaxis'] = pd.DataFrame()\n",
    "    num_section = np.unique(adata.obs[key_section]).shape[0]\n",
    "    if verbose:\n",
    "        print('Radius used for 2D SNN:', rad_cutoff_2D)\n",
    "        print('Radius used for SNN between sections:', rad_cutoff_Zaxis)\n",
    "    for temp_section in np.unique(adata.obs[key_section]):\n",
    "        if verbose:\n",
    "            print('------Calculating 2D SNN of section ', temp_section)\n",
    "        temp_adata = adata[adata.obs[key_section] == temp_section, ]\n",
    "        Cal_Spatial_Net(\n",
    "            temp_adata, rad_cutoff=rad_cutoff_2D, verbose=False)\n",
    "        temp_adata.uns['Spatial_Net']['SNN'] = temp_section\n",
    "        if verbose:\n",
    "            print('This graph contains %d edges, %d cells.' %\n",
    "                  (temp_adata.uns['Spatial_Net'].shape[0], temp_adata.n_obs))\n",
    "            print('%.4f neighbors per cell on average.' %\n",
    "                  (temp_adata.uns['Spatial_Net'].shape[0]/temp_adata.n_obs))\n",
    "        adata.uns['Spatial_Net_2D'] = pd.concat(\n",
    "            [adata.uns['Spatial_Net_2D'], temp_adata.uns['Spatial_Net']])\n",
    "    for it in range(num_section-1):\n",
    "        section_1 = section_order[it]\n",
    "        section_2 = section_order[it+1]\n",
    "        if verbose:\n",
    "            print('------Calculating SNN between adjacent section %s and %s.' %\n",
    "                  (section_1, section_2))\n",
    "        Z_Net_ID = section_1+'-'+section_2\n",
    "        temp_adata = adata[adata.obs[key_section].isin(\n",
    "            [section_1, section_2]), ]\n",
    "        Cal_Spatial_Net(\n",
    "            temp_adata, rad_cutoff=rad_cutoff_Zaxis, verbose=False)\n",
    "        spot_section_trans = dict(\n",
    "            zip(temp_adata.obs.index, temp_adata.obs[key_section]))\n",
    "        temp_adata.uns['Spatial_Net']['Section_id_1'] = temp_adata.uns['Spatial_Net']['Cell1'].map(\n",
    "            spot_section_trans)\n",
    "        temp_adata.uns['Spatial_Net']['Section_id_2'] = temp_adata.uns['Spatial_Net']['Cell2'].map(\n",
    "            spot_section_trans)\n",
    "        used_edge = temp_adata.uns['Spatial_Net'].apply(\n",
    "            lambda x: x['Section_id_1'] != x['Section_id_2'], axis=1)\n",
    "        temp_adata.uns['Spatial_Net'] = temp_adata.uns['Spatial_Net'].loc[used_edge, ]\n",
    "        temp_adata.uns['Spatial_Net'] = temp_adata.uns['Spatial_Net'].loc[:, [\n",
    "            'Cell1', 'Cell2', 'Distance']]\n",
    "        temp_adata.uns['Spatial_Net']['SNN'] = Z_Net_ID\n",
    "        if verbose:\n",
    "            print('This graph contains %d edges, %d cells.' %\n",
    "                  (temp_adata.uns['Spatial_Net'].shape[0], temp_adata.n_obs))\n",
    "            print('%.4f neighbors per cell on average.' %\n",
    "                  (temp_adata.uns['Spatial_Net'].shape[0]/temp_adata.n_obs))\n",
    "        adata.uns['Spatial_Net_Zaxis'] = pd.concat(\n",
    "            [adata.uns['Spatial_Net_Zaxis'], temp_adata.uns['Spatial_Net']])\n",
    "    adata.uns['Spatial_Net'] = pd.concat(\n",
    "        [adata.uns['Spatial_Net_2D'], adata.uns['Spatial_Net_Zaxis']])\n",
    "    if verbose:\n",
    "        print('3D SNN contains %d edges, %d cells.' %\n",
    "            (adata.uns['Spatial_Net'].shape[0], adata.n_obs))\n",
    "        print('%.4f neighbors per cell on average.' %\n",
    "            (adata.uns['Spatial_Net'].shape[0]/adata.n_obs))\n",
    "\n",
    "def Stats_Spatial_Net(adata):\n",
    "    import matplotlib.pyplot as plt\n",
    "    Num_edge = adata.uns['Spatial_Net']['Cell1'].shape[0]\n",
    "    Mean_edge = Num_edge/adata.shape[0]\n",
    "    plot_df = pd.value_counts(pd.value_counts(adata.uns['Spatial_Net']['Cell1']))\n",
    "    plot_df = plot_df/adata.shape[0]\n",
    "    fig, ax = plt.subplots(figsize=[3,2])\n",
    "    plt.ylabel('Percentage')\n",
    "    plt.xlabel('')\n",
    "    plt.title('Number of Neighbors (Mean=%.2f)'%Mean_edge)\n",
    "    ax.bar(plot_df.index, plot_df)\n",
    "\n",
    "def mclust_R(adata, num_cluster, modelNames='EEE', used_obsm='STAGATE', random_seed=2020):\n",
    "    \"\"\"\\\n",
    "    Clustering using the mclust algorithm.\n",
    "    The parameters are the same as those in the R package mclust.\n",
    "    \"\"\"\n",
    "    \n",
    "    np.random.seed(random_seed)\n",
    "    import rpy2.robjects as robjects\n",
    "    robjects.r.library(\"mclust\")\n",
    "\n",
    "    import rpy2.robjects.numpy2ri\n",
    "    rpy2.robjects.numpy2ri.activate()\n",
    "    r_random_seed = robjects.r['set.seed']\n",
    "    r_random_seed(random_seed)\n",
    "    rmclust = robjects.r['Mclust']\n",
    "\n",
    "    res = rmclust(rpy2.robjects.numpy2ri.numpy2rpy(adata.obsm[used_obsm]), num_cluster, modelNames)\n",
    "    mclust_res = np.array(res[-2])\n",
    "\n",
    "    adata.obs['mclust'] = mclust_res\n",
    "    adata.obs['mclust'] = adata.obs['mclust'].astype('int')\n",
    "    adata.obs['mclust'] = adata.obs['mclust'].astype('category')\n",
    "    return adata\n"
   ]
  },
  {
   "cell_type": "code",
   "execution_count": 5,
   "id": "8c5b5894",
   "metadata": {
    "metadata": {}
   },
   "outputs": [],
   "source": [
    "import tensorflow.compat.v1 as tf\n",
    "import scipy.sparse as sp\n",
    "import numpy as np\n",
    "# from .model import GATE\n",
    "from tqdm import tqdm\n",
    "\n",
    "class STAGATE():\n",
    "\n",
    "    def __init__(self, hidden_dims, alpha, n_epochs=500, lr=0.0001, \n",
    "                 gradient_clipping=5, nonlinear=True, weight_decay=0.0001, \n",
    "                 verbose=True, random_seed=2020):\n",
    "        np.random.seed(random_seed)\n",
    "        tf.set_random_seed(random_seed)\n",
    "        self.loss_list = []\n",
    "        self.lr = lr\n",
    "        self.n_epochs = n_epochs\n",
    "        self.gradient_clipping = gradient_clipping\n",
    "        self.build_placeholders()\n",
    "        self.verbose = verbose\n",
    "        self.alpha = alpha\n",
    "        self.gate = GATE(hidden_dims, alpha, nonlinear, weight_decay)\n",
    "        self.loss, self.H, self.C, self.ReX = self.gate(self.A, self.prune_A, self.X)\n",
    "        self.optimize(self.loss)\n",
    "        self.build_session()\n",
    "\n",
    "    def build_placeholders(self):\n",
    "        self.A = tf.sparse_placeholder(dtype=tf.float32)\n",
    "        self.prune_A = tf.sparse_placeholder(dtype=tf.float32)\n",
    "        self.X = tf.placeholder(dtype=tf.float32)\n",
    "\n",
    "    def build_session(self, gpu= True):\n",
    "        config = tf.compat.v1.ConfigProto() #tf.ConfigProto()\n",
    "        config.gpu_options.allow_growth = True\n",
    "        if gpu == False:\n",
    "            config.intra_op_parallelism_threads = 0\n",
    "            config.inter_op_parallelism_threads = 0\n",
    "        self.session = tf.compat.v1.Session(config=config) #tf.Session(config=config)\n",
    "        # self.session.run([tf.global_variables_initializer(), tf.local_variables_initializer()])\n",
    "\n",
    "        self.session.run([tf.compat.v1.global_variables_initializer(), tf.compat.v1.local_variables_initializer()])\n",
    "    \n",
    "\n",
    "    def optimize(self, loss):\n",
    "        optimizer = tf.train.AdamOptimizer(learning_rate=self.lr)\n",
    "        gradients, variables = zip(*optimizer.compute_gradients(loss))\n",
    "        gradients, _ = tf.clip_by_global_norm(gradients, self.gradient_clipping)\n",
    "        self.train_op = optimizer.apply_gradients(zip(gradients, variables))\n",
    "\n",
    "    def __call__(self, A, prune_A, X):\n",
    "        for epoch in tqdm(range(self.n_epochs)):\n",
    "            self.run_epoch(epoch, A, prune_A, X)\n",
    "\n",
    "    def run_epoch(self, epoch, A, prune_A, X):\n",
    "\n",
    "        loss, _ = self.session.run([self.loss, self.train_op],\n",
    "                                         feed_dict={self.A: A,\n",
    "                                                    self.prune_A: prune_A,\n",
    "                                                    self.X: X})\n",
    "        self.loss_list.append(loss)\n",
    "        #if self.verbose:\n",
    "        #    print(\"Epoch: %s, Loss: %.4f\" % (epoch, loss))\n",
    "        return loss\n",
    "\n",
    "    def infer(self, A, prune_A, X):\n",
    "        H, C, ReX = self.session.run([self.H, self.C, self.ReX],\n",
    "                           feed_dict={self.A: A,\n",
    "                                      self.prune_A: prune_A,\n",
    "                                      self.X: X})\n",
    "\n",
    "        return H, self.Conbine_Atten_l(C), self.loss_list, ReX\n",
    "\n",
    "    def Conbine_Atten_l(self, input):\n",
    "        if self.alpha == 0:\n",
    "            return [sp.coo_matrix((input[layer][1], (input[layer][0][:, 0], input[layer][0][:, 1])), shape=(input[layer][2][0], input[layer][2][1])) for layer in input]\n",
    "        else:\n",
    "            Att_C = [sp.coo_matrix((input['C'][layer][1], (input['C'][layer][0][:, 0], input['C'][layer][0][:, 1])), shape=(input['C'][layer][2][0], input['C'][layer][2][1])) for layer in input['C']]\n",
    "            Att_pruneC = [sp.coo_matrix((input['prune_C'][layer][1], (input['prune_C'][layer][0][:, 0], input['prune_C'][layer][0][:, 1])), shape=(input['prune_C'][layer][2][0], input['prune_C'][layer][2][1])) for layer in input['prune_C']]\n",
    "            return [self.alpha*Att_pruneC[layer] + (1-self.alpha)*Att_C[layer] for layer in input['C']]\n"
   ]
  },
  {
   "cell_type": "code",
   "execution_count": 6,
   "id": "1ee1bcc0",
   "metadata": {
    "metadata": {}
   },
   "outputs": [],
   "source": [
    "import numpy as np\n",
    "import scipy.sparse as sp\n",
    "import tensorflow.compat.v1 as tf\n",
    "import pandas as pd\n",
    "import scanpy as sc\n",
    "\n",
    "tf.disable_eager_execution()\n",
    "\n",
    "def train_STAGATE(adata, hidden_dims=[512, 30], alpha=0, n_epochs=500, lr=0.0001, key_added='STAGATE',\n",
    "                gradient_clipping=5, nonlinear=True, weight_decay=0.0001,verbose=True, \n",
    "                random_seed=2020, pre_labels=None, pre_resolution=0.2,\n",
    "                save_attention=False, save_loss=False, save_reconstrction=False):\n",
    "    \"\"\"\\\n",
    "    Training graph attention auto-encoder.\n",
    "\n",
    "    Parameters\n",
    "    ----------\n",
    "    adata\n",
    "        AnnData object of scanpy package.\n",
    "    hidden_dims\n",
    "        The dimension of the encoder.\n",
    "    alpha\n",
    "        The weight of cell type-aware spatial neighbor network.\n",
    "    n_epochs\n",
    "        Number of total epochs in training.\n",
    "    lr\n",
    "        Learning rate for AdamOptimizer.\n",
    "    key_added\n",
    "        The latent embeddings are saved in adata.obsm[key_added].\n",
    "    gradient_clipping\n",
    "        Gradient Clipping.\n",
    "    nonlinear\n",
    "        If True, the nonlinear avtivation is performed.\n",
    "    weight_decay\n",
    "        Weight decay for AdamOptimizer.\n",
    "    pre_labels\n",
    "        The key in adata.obs for the manually designate the pre-clustering results. Only used when alpha>0.\n",
    "    pre_resolution\n",
    "        The resolution parameter of sc.tl.louvain for the pre-clustering. Only used when alpha>0 and per_labels==None.\n",
    "    save_attention\n",
    "        If True, the weights of the attention layers are saved in adata.uns['STAGATE_attention']\n",
    "    save_loss\n",
    "        If True, the training loss is saved in adata.uns['STAGATE_loss'].\n",
    "    save_reconstrction\n",
    "        If True, the reconstructed expression profiles are saved in adata.layers['STAGATE_ReX'].\n",
    "\n",
    "    Returns\n",
    "    -------\n",
    "    AnnData\n",
    "    \"\"\"\n",
    "\n",
    "    tf.reset_default_graph()\n",
    "    np.random.seed(random_seed)\n",
    "    tf.set_random_seed(random_seed)\n",
    "    if 'highly_variable' in adata.var.columns:\n",
    "        adata_Vars =  adata[:, adata.var['highly_variable']]\n",
    "    else:\n",
    "        adata_Vars = adata\n",
    "    X = pd.DataFrame(adata_Vars.X.toarray()[:, ], index=adata_Vars.obs.index, columns=adata_Vars.var.index)\n",
    "    if verbose:\n",
    "        print('Size of Input: ', adata_Vars.shape)\n",
    "    cells = np.array(X.index)\n",
    "    cells_id_tran = dict(zip(cells, range(cells.shape[0])))\n",
    "    if 'Spatial_Net' not in adata.uns.keys():\n",
    "        raise ValueError(\"Spatial_Net is not existed! Run Cal_Spatial_Net first!\")\n",
    "    Spatial_Net = adata.uns['Spatial_Net']\n",
    "    G_df = Spatial_Net.copy()\n",
    "    G_df['Cell1'] = G_df['Cell1'].map(cells_id_tran)\n",
    "    G_df['Cell2'] = G_df['Cell2'].map(cells_id_tran)\n",
    "    G = sp.coo_matrix((np.ones(G_df.shape[0]), (G_df['Cell1'], G_df['Cell2'])), shape=(adata.n_obs, adata.n_obs))\n",
    "    G_tf = prepare_graph_data(G)\n",
    "\n",
    "    \n",
    "    trainer = STAGATE(hidden_dims=[X.shape[1]] + hidden_dims, alpha=alpha, \n",
    "                    n_epochs=n_epochs, lr=lr, gradient_clipping=gradient_clipping, \n",
    "                    nonlinear=nonlinear,weight_decay=weight_decay, verbose=verbose, \n",
    "                    random_seed=random_seed)\n",
    "    if alpha == 0:\n",
    "        trainer(G_tf, G_tf, X)\n",
    "        embeddings, attentions, loss, ReX= trainer.infer(G_tf, G_tf, X)\n",
    "    else:\n",
    "        G_df = Spatial_Net.copy()\n",
    "        if pre_labels==None:\n",
    "            if verbose:\n",
    "                print('------Pre-clustering using louvain with resolution=%.2f' %pre_resolution)\n",
    "            sc.tl.pca(adata, svd_solver='arpack')\n",
    "            sc.pp.neighbors(adata)\n",
    "            sc.tl.louvain(adata, resolution=pre_resolution, key_added='expression_louvain_label')\n",
    "            pre_labels = 'expression_louvain_label'\n",
    "        prune_G_df = prune_spatial_Net(G_df, adata.obs[pre_labels])\n",
    "        prune_G_df['Cell1'] = prune_G_df['Cell1'].map(cells_id_tran)\n",
    "        prune_G_df['Cell2'] = prune_G_df['Cell2'].map(cells_id_tran)\n",
    "        prune_G = sp.coo_matrix((np.ones(prune_G_df.shape[0]), (prune_G_df['Cell1'], prune_G_df['Cell2'])))\n",
    "        prune_G_tf = prepare_graph_data(prune_G)\n",
    "        prune_G_tf = (prune_G_tf[0], prune_G_tf[1], G_tf[2])\n",
    "        trainer(G_tf, prune_G_tf, X)\n",
    "        embeddings, attentions, loss, ReX = trainer.infer(G_tf, prune_G_tf, X)\n",
    "    cell_reps = pd.DataFrame(embeddings)\n",
    "    cell_reps.index = cells\n",
    "\n",
    "    adata.obsm[key_added] = cell_reps.loc[adata.obs_names, ].values\n",
    "    if save_attention:\n",
    "        adata.uns['STAGATE_attention'] = attentions\n",
    "    if save_loss:\n",
    "        adata.uns['STAGATE_loss'] = loss\n",
    "    if save_reconstrction:\n",
    "        ReX = pd.DataFrame(ReX, index=X.index, columns=X.columns)\n",
    "        ReX[ReX<0] = 0\n",
    "        adata.layers['STAGATE_ReX'] = ReX.values\n",
    "    return adata\n",
    "\n",
    "\n",
    "def prune_spatial_Net(Graph_df, label):\n",
    "    print('------Pruning the graph...')\n",
    "    print('%d edges before pruning.' %Graph_df.shape[0])\n",
    "    pro_labels_dict = dict(zip(list(label.index), label))\n",
    "    Graph_df['Cell1_label'] = Graph_df['Cell1'].map(pro_labels_dict)\n",
    "    Graph_df['Cell2_label'] = Graph_df['Cell2'].map(pro_labels_dict)\n",
    "    Graph_df = Graph_df.loc[Graph_df['Cell1_label']==Graph_df['Cell2_label'],]\n",
    "    print('%d edges after pruning.' %Graph_df.shape[0])\n",
    "    return Graph_df\n",
    "\n",
    "\n",
    "def prepare_graph_data(adj):\n",
    "    # adapted from preprocess_adj_bias\n",
    "    num_nodes = adj.shape[0]\n",
    "    adj = adj + sp.eye(num_nodes)# self-loop\n",
    "    #data =  adj.tocoo().data\n",
    "    #adj[adj > 0.0] = 1.0\n",
    "    if not sp.isspmatrix_coo(adj):\n",
    "        adj = adj.tocoo()\n",
    "    adj = adj.astype(np.float32)\n",
    "    indices = np.vstack((adj.col, adj.row)).transpose()\n",
    "    return (indices, adj.data, adj.shape)\n",
    "\n",
    "def recovery_Imputed_Count(adata, size_factor):\n",
    "    assert('ReX' in adata.uns)\n",
    "    temp_df = adata.uns['ReX'].copy()\n",
    "    sf = size_factor.loc[temp_df.index]\n",
    "    temp_df = np.expm1(temp_df)\n",
    "    temp_df = (temp_df.T * sf).T\n",
    "    adata.uns['ReX_Count'] = temp_df\n",
    "    return adata\n"
   ]
  },
  {
   "cell_type": "markdown",
   "id": "772523de",
   "metadata": {},
   "source": [
    "### 4. Preprocess"
   ]
  },
  {
   "cell_type": "code",
   "execution_count": 7,
   "id": "eb66c9a2",
   "metadata": {
    "metadata": {}
   },
   "outputs": [
    {
     "data": {
      "text/plain": [
       "28"
      ]
     },
     "execution_count": 7,
     "metadata": {},
     "output_type": "execute_result"
    }
   ],
   "source": [
    "max(adata.obs['loc_x']) - min(adata.obs['loc_x'])"
   ]
  },
  {
   "cell_type": "code",
   "execution_count": 8,
   "id": "7a6e25e3",
   "metadata": {
    "metadata": {}
   },
   "outputs": [
    {
     "name": "stdout",
     "output_type": "stream",
     "text": [
      "------Calculating spatial graph...\n",
      "The graph contains 1524 edges, 428 cells.\n",
      "3.5607 neighbors per cell on average.\n"
     ]
    },
    {
     "data": {
      "image/png": "[encoded data removed]",
      "text/plain": [
       "<Figure size 300x200 with 1 Axes>"
      ]
     },
     "metadata": {},
     "output_type": "display_data"
    }
   ],
   "source": [
    "sc.pp.normalize_total(adata, target_sum=1e4) # Normalization\n",
    "sc.pp.log1p(adata) # Take log\n",
    "sc.pp.highly_variable_genes(adata, n_top_genes=2000, subset=True) # Gene screening\n",
    "adata.obsm['spatial'] = adata.obs[['loc_x', 'loc_y']].to_numpy()\n",
    "#### Construct spatial network\n",
    "Cal_Spatial_Net(adata, rad_cutoff=1)\n",
    "Stats_Spatial_Net(adata)"
   ]
  },
  {
   "cell_type": "markdown",
   "id": "426dfcac",
   "metadata": {},
   "source": [
    "### 5. Model training"
   ]
  },
  {
   "cell_type": "code",
   "execution_count": 9,
   "id": "b972cdd4",
   "metadata": {
    "metadata": {}
   },
   "outputs": [
    {
     "name": "stdout",
     "output_type": "stream",
     "text": [
      "Size of Input:  (428, 2000)\n"
     ]
    },
    {
     "name": "stderr",
     "output_type": "stream",
     "text": [
      "2024-05-22 16:07:37.208528: I tensorflow/core/platform/cpu_feature_guard.cc:193] This TensorFlow binary is optimized with oneAPI Deep Neural Network Library (oneDNN) to use the following CPU instructions in performance-critical operations:  AVX2 FMA\n",
      "To enable them in other operations, rebuild TensorFlow with the appropriate compiler flags.\n",
      "2024-05-22 16:07:41.121897: I tensorflow/core/common_runtime/gpu/gpu_device.cc:1616] Created device /job:localhost/replica:0/task:0/device:GPU:0 with 21622 MB memory:  -> device: 0, name: Tesla V100-DGXS-32GB, pci bus id: 0000:07:00.0, compute capability: 7.0\n",
      "2024-05-22 16:07:41.124491: I tensorflow/core/common_runtime/gpu/gpu_device.cc:1616] Created device /job:localhost/replica:0/task:0/device:GPU:1 with 27632 MB memory:  -> device: 1, name: Tesla V100-DGXS-32GB, pci bus id: 0000:08:00.0, compute capability: 7.0\n",
      "2024-05-22 16:07:41.125783: I tensorflow/core/common_runtime/gpu/gpu_device.cc:1616] Created device /job:localhost/replica:0/task:0/device:GPU:2 with 3232 MB memory:  -> device: 2, name: Tesla V100-DGXS-32GB, pci bus id: 0000:0e:00.0, compute capability: 7.0\n",
      "2024-05-22 16:07:41.128307: I tensorflow/core/common_runtime/gpu/gpu_device.cc:1616] Created device /job:localhost/replica:0/task:0/device:GPU:3 with 30965 MB memory:  -> device: 3, name: Tesla V100-DGXS-32GB, pci bus id: 0000:0f:00.0, compute capability: 7.0\n",
      "2024-05-22 16:07:41.138293: I tensorflow/compiler/mlir/mlir_graph_optimization_pass.cc:354] MLIR V1 optimization pass is not enabled\n",
      "100%|██████████| 500/500 [00:04<00:00, 103.52it/s]\n"
     ]
    }
   ],
   "source": [
    "import tensorflow.compat.v1 as tf\n",
    "from scipy.sparse import csr_matrix\n",
    "tf.disable_eager_execution()\n",
    "adata.X = csr_matrix(adata.X)\n",
    "adata = train_STAGATE(adata, alpha=0)"
   ]
  },
  {
   "cell_type": "markdown",
   "id": "70066aec",
   "metadata": {},
   "source": [
    "### 6. Clustering"
   ]
  },
  {
   "cell_type": "code",
   "execution_count": 10,
   "id": "0af087d6",
   "metadata": {
    "metadata": {}
   },
   "outputs": [
    {
     "name": "stderr",
     "output_type": "stream",
     "text": [
      "/home/stat/anaconda3/envs/gcn2/lib/python3.8/site-packages/numba/np/ufunc/parallel.py:365: NumbaWarning: The TBB threading layer requires TBB version 2019.5 or later i.e., TBB_INTERFACE_VERSION >= 11005. Found TBB_INTERFACE_VERSION = 9107. The TBB threading layer is disabled.\n",
      "  warnings.warn(problem)\n",
      "R[write to console]:                    __           __ \n",
      "   ____ ___  _____/ /_  _______/ /_\n",
      "  / __ `__ \\/ ___/ / / / / ___/ __/\n",
      " / / / / / / /__/ / /_/ (__  ) /_  \n",
      "/_/ /_/ /_/\\___/_/\\__,_/____/\\__/   version 6.0.0\n",
      "Type 'citation(\"mclust\")' for citing this R package in publications.\n",
      "\n"
     ]
    },
    {
     "name": "stdout",
     "output_type": "stream",
     "text": [
      "fitting ...\n",
      "  |======================================================================| 100%\n",
      "ARI:  0.5473133562575203\n",
      "[1, 2, 3, 4]\n",
      "Categories (4, int64): [1, 2, 3, 4]\n"
     ]
    }
   ],
   "source": [
    "sc.pp.neighbors(adata, use_rep='STAGATE')\n",
    "sc.tl.umap(adata)\n",
    "adata = mclust_R(adata, used_obsm='STAGATE', num_cluster=4)\n",
    "ARI = adjusted_rand_score(adata.obs['mclust'], adata.obs['true cluster']) \n",
    "print('ARI: ', ARI)\n",
    "print(adata.obs['mclust'].unique())"
   ]
  },
  {
   "cell_type": "code",
   "execution_count": 11,
   "id": "8e3bb2b3",
   "metadata": {},
   "outputs": [
    {
     "data": {
      "image/png": "[encoded data removed]",
      "text/plain": [
       "<Figure size 500x500 with 1 Axes>"
      ]
     },
     "metadata": {},
     "output_type": "display_data"
    }
   ],
   "source": [
    "WEST_plt.WEST_scatter(adata, reps='mclust', invert_y=True, s=5)"
   ]
  },
  {
   "cell_type": "code",
   "execution_count": 21,
   "id": "60656330",
   "metadata": {},
   "outputs": [
    {
     "data": {
      "text/plain": [
       "(2500, 400)"
      ]
     },
     "execution_count": 21,
     "metadata": {},
     "output_type": "execute_result"
    }
   ],
   "source": [
    "adata.X.shape"
   ]
  },
  {
   "cell_type": "markdown",
   "id": "8306f32d",
   "metadata": {},
   "source": [
    "### 7. Save embedding"
   ]
  },
  {
   "cell_type": "code",
   "execution_count": 12,
   "id": "d349f149",
   "metadata": {
    "metadata": {}
   },
   "outputs": [],
   "source": [
    "np.savetxt(file_path+'STAGATE_embedding.csv', adata.obsm['STAGATE'], delimiter=',')\n",
    "np.savetxt(file_path+'STAGATE_cluster.csv', adata.obs['mclust'], delimiter=',', fmt='%s')"
   ]
  }
 ],
 "metadata": {
  "kernelspec": {
   "display_name": "Python 3.8.19 ('stagate')",
   "language": "python",
   "name": "python3"
  },
  "language_info": {
   "codemirror_mode": {
    "name": "ipython",
    "version": 3
   },
   "file_extension": ".py",
   "mimetype": "text/x-python",
   "name": "python",
   "nbconvert_exporter": "python",
   "pygments_lexer": "ipython3",
   "version": "3.8.19"
  },
  "vscode": {
   "interpreter": {
    "hash": "8e3e602e535e2bec33d562881131d0f68630e6cfd4c968070b39f4b18889ae1b"
   }
  }
 },
 "nbformat": 4,
 "nbformat_minor": 5
}
